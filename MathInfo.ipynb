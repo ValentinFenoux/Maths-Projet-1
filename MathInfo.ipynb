{
 "cells": [
  {
   "cell_type": "markdown",
   "metadata": {},
   "source": [
    "# Projet numérique : Lignes de niveau"
   ]
  },
  {
   "cell_type": "markdown",
   "metadata": {},
   "source": [
    "### Première étape : import des bibliothèques"
   ]
  },
  {
   "cell_type": "code",
   "execution_count": 3,
   "metadata": {},
   "outputs": [],
   "source": [
    "import matplotlib.pyplot as plt\n",
    "import autograd\n",
    "from autograd import numpy as np\n",
    "%matplotlib inline"
   ]
  },
  {
   "cell_type": "markdown",
   "metadata": {},
   "source": [
    "## Amorce"
   ]
  },
  {
   "cell_type": "code",
   "execution_count": 1,
   "metadata": {},
   "outputs": [],
   "source": [
    "def find_seed(g, c=0, eps=2**(-26)) :\n",
    "    if (c >= g(0,0) and c <= g(0,1)) or (c <= g(0,0) and c >= g(0,1)) :\n",
    "        #-----------------------------#\n",
    "        def f(y) :\n",
    "            return(g(0,y) - c)\n",
    "            \n",
    "        def dichotomie(f,a,b) :\n",
    "            while abs(a - b) > eps :\n",
    "                c = (a+b)/2\n",
    "                if f(c)*f(a) > 0 :\n",
    "                    a = c\n",
    "                else :\n",
    "                    b = c\n",
    "            return(c)\n",
    "        #------------------------------#\n",
    "        t = dichotomie(f,0,1)\n",
    "        return(t)\n",
    "    else :\n",
    "        return(None)"
   ]
  },
  {
   "cell_type": "code",
   "execution_count": 2,
   "metadata": {},
   "outputs": [],
   "source": [
    "def simple_contour(f, c=0.0, delta=0.01) :\n",
    "    X = [] ; Y = []\n",
    "    # Définition du gradient\n",
    "    def grad_f(x,y) :\n",
    "        g = autograd.grad\n",
    "        grad = np.array([g(f,0)(x,y),g(f,1)(x,y)])\n",
    "        return(grad/((grad[0]**2 + grad[1]**2)**(1/2)))  # On retourne un gradient normé\n",
    "    # Recherche de t sur la frontière\n",
    "    y = find_seed(f,c) ; x = 0.0\n",
    "    print(y)\n",
    "    if y != None :\n",
    "        X.append(0) ; Y.append(y)\n",
    "    else :\n",
    "        return(X,Y)     # Cas où c n'est pas sur la frontière\n",
    "    gf = grad_f(x,y)\n",
    "    if gf[1] >= 0 :\n",
    "        E = 1\n",
    "    else :\n",
    "        E = -1\n",
    "    # Recherche de la ligne de niveau\n",
    "    while x >= 0 and x <= 1 and y >= 0 and y <= 1 :\n",
    "        gf = grad_f(x,y)\n",
    "        x += E*gf[1]*delta ; y -= E*gf[0]*delta\n",
    "        X.append(x) ; Y.append(y)\n",
    "    \n",
    "    X.pop() ; Y.pop() #le dernier point est hors du cadre\n",
    "    return(X,Y)"
   ]
  },
  {
   "cell_type": "code",
   "execution_count": 5,
   "metadata": {},
   "outputs": [],
   "source": [
    "def f(x,y) :\n",
    "    return(2*(np.exp(-x**2-y**2) - np.exp(-(x-1)**2-(y-1)**2)))\n",
    "\n",
    "def g(x,y) :\n",
    "    return(x**2 + y**2)"
   ]
  },
  {
   "cell_type": "code",
   "execution_count": 3,
   "metadata": {},
   "outputs": [],
   "source": [
    "def seed_complexe(g, x0, x1, y0, y1, c=0.0, eps=2**(-26)) :\n",
    "    T = []\n",
    "    #---------Fonction pour la recherche de t-----------#\n",
    "    def dichotomie(f,a,b) :\n",
    "            while abs(a - b) > eps :\n",
    "                c = (a+b)/2\n",
    "                if f(c)*f(a) > 0 :\n",
    "                    a = c\n",
    "                else :\n",
    "                    b = c\n",
    "            return(c)\n",
    "    #---------On cherche le seed sur les 4 côtés du carré-----------#\n",
    "    if (c >= g(x0,y0) and c <= g(x0,y1)) or (c <= g(x0,y0) and c >= g(x0,y1)) :\n",
    "        def f1(y) :\n",
    "            return(g(x0,y) - c)\n",
    "        t = dichotomie(f1,y0,y1)\n",
    "        T.append([x0,t])\n",
    "    #--------------------#   \n",
    "    if (c >= g(x0,y0) and c <= g(x1,y0)) or (c <= g(x0,y0) and c >= g(x1,y0)) :\n",
    "        def f2(x) :\n",
    "            return(g(x,y0) - c)\n",
    "        t = dichotomie(f2,x0,x1)\n",
    "        T.append([t,y0])\n",
    "    #--------------------#   \n",
    "    if (c >= g(x1,y1) and c <= g(x1,y0)) or (c <= g(x1,y1) and c >= g(x1,y0)) :\n",
    "        def f3(y) :\n",
    "            return(g(x1,y) - c)\n",
    "        t = dichotomie(f3,y0,y1)\n",
    "        T.append([x1,t])\n",
    "    #--------------------#\n",
    "    if (c >= g(x1,y1) and c <= g(x0,y1)) or (c <= g(x1,y1) and c >= g(x0,y1)) :\n",
    "        def f4(x) :\n",
    "            return(g(x,y1) - c)\n",
    "        t = dichotomie(f4,x0,x1)\n",
    "        T.append([t,y1])\n",
    "    return(T)"
   ]
  },
  {
   "cell_type": "code",
   "execution_count": 4,
   "metadata": {},
   "outputs": [],
   "source": [
    "def cplx_contour(f, x0, x1, y0, y1, c=0.0, delta=0.01) :\n",
    "    X = [] ; Y = []\n",
    "    # Définition du gradient\n",
    "    def grad_f(x,y) :\n",
    "        g = autograd.grad\n",
    "        grad = np.array([g(f,0)(x,y),g(f,1)(x,y)])\n",
    "        return(grad/((grad[0]**2 + grad[1]**2)**(1/2)))  # On retourne un gradient normé\n",
    "    # Recherche de t sur la frontière\n",
    "    T = seed_complexe(f, x0, x1, y0, y1, c)\n",
    "    for x,y in T :\n",
    "        X.append(x) ; Y.append(y)\n",
    "        gf = grad_f(x,y)\n",
    "        # Il y a différentes conditions pour avoir un vecteur \n",
    "        # orthogonal au gradient dirigé vers l'intérieur du cadre\n",
    "        if x == x0 :\n",
    "            if gf[1] >= 0 :\n",
    "                E = 1\n",
    "            else :\n",
    "                E = -1\n",
    "        elif x == x1 :\n",
    "            if gf[1] >= 0 :\n",
    "                E = -1\n",
    "            else :\n",
    "                E = 1\n",
    "        elif y == y0 :\n",
    "            if gf[0] >= 0 :\n",
    "                E = 1\n",
    "            else :\n",
    "                E = -1 \n",
    "        else : \n",
    "            if gf[0] >= 0 :\n",
    "                E = -1\n",
    "            else :\n",
    "                E = 1\n",
    "        # Recherche de la ligne de niveau\n",
    "        while x >= x0 and x <= x1 and y >= y0 and y <= y1 :\n",
    "            gf = grad_f(x,y)\n",
    "            x += E*gf[1]*delta ; y -= E*gf[0]*delta\n",
    "            X.append(x) ; Y.append(y)\n",
    "        X.pop() ; Y.pop() #le dernier point est hors du cadre\n",
    "    return(X,Y)"
   ]
  },
  {
   "cell_type": "code",
   "execution_count": null,
   "metadata": {},
   "outputs": [],
   "source": [
    "def contour(f, c=0.0, xc=[0.0,1.0], yc=[0.0,1.0], delta=0.01) :\n",
    "    xs = [] ; ys = []\n",
    "    for i in range(len(xc)-1) :\n",
    "        for j in range(len(yc)-1) :\n",
    "            x,y = cplx_contour(f, xc[i], xc[i+1],yc[j],yc[j+1],c,delta)\n",
    "            xs.append(x) ; ys.append(y)\n",
    "    return(xs,ys)"
   ]
  }
 ],
 "metadata": {
  "celltoolbar": "Aucun(e)",
  "kernelspec": {
   "display_name": "Python 3",
   "language": "python",
   "name": "python3"
  },
  "language_info": {
   "codemirror_mode": {
    "name": "ipython",
    "version": 3
   },
   "file_extension": ".py",
   "mimetype": "text/x-python",
   "name": "python",
   "nbconvert_exporter": "python",
   "pygments_lexer": "ipython3",
   "version": "3.7.3"
  }
 },
 "nbformat": 4,
 "nbformat_minor": 2
}
